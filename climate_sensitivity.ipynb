{
 "cells": [
  {
   "cell_type": "code",
   "execution_count": 20,
   "metadata": {},
   "outputs": [],
   "source": [
    "# checked by RW 3/7/23\n",
    "\n",
    "import numpy as np\n",
    "\n",
    "from spectroscopy import kboltz\n",
    "from spectroscopy import hplanck\n",
    "from spectroscopy import c_light\n",
    "from spectroscopy import stefan\n",
    "from spectroscopy import planck_spec_irradiance\n",
    "from spectroscopy import Ts"
   ]
  },
  {
   "cell_type": "markdown",
   "metadata": {},
   "source": [
    "Calculate airless equilibrium climate sensitivity (ECS):"
   ]
  },
  {
   "cell_type": "code",
   "execution_count": 21,
   "metadata": {},
   "outputs": [
    {
     "name": "stdout",
     "output_type": "stream",
     "text": [
      "lambda_ECS =  5.42 W m^-2 K^-1\n"
     ]
    }
   ],
   "source": [
    "lambda_ECS = +4*stefan*Ts**3\n",
    "\n",
    "print('lambda_ECS = ',round(lambda_ECS,2),'W m^-2 K^-1')"
   ]
  },
  {
   "cell_type": "markdown",
   "metadata": {},
   "source": [
    "Calculate ECS numerically:"
   ]
  },
  {
   "cell_type": "code",
   "execution_count": 25,
   "metadata": {},
   "outputs": [
    {
     "name": "stdout",
     "output_type": "stream",
     "text": [
      "lambda_ECS =  2.26 W m^-2 K^-1\n"
     ]
    }
   ],
   "source": [
    "nuA     = 21e12 # H2O window starting frequency [Hz]\n",
    "nuB     = 36e12 # H2O window final frequency  [Hz]\n",
    "nu_w    = (nuB+nuA)/2 # mean frequency [Hz]\n",
    "dnu_w   = (nuB-nuA)   # frequency difference [Hz]\n",
    "nu      = np.linspace(nuA,nuB) # frequency array [Hz]\n",
    "intB_A  = np.trapz(np.pi*planck_spec_irradiance(nu,Ts-0.01),nu)\n",
    "intB_B  = np.trapz(np.pi*planck_spec_irradiance(nu,Ts+0.01),nu)\n",
    "dintBdT = +(intB_B-intB_A)/(0.02)\n",
    "\n",
    "print('lambda_ECS = ',round(dintBdT,2),'W m^-2 K^-1')"
   ]
  },
  {
   "cell_type": "markdown",
   "metadata": {},
   "source": [
    "Calculate ECS using Wien approximation:"
   ]
  },
  {
   "cell_type": "code",
   "execution_count": 28,
   "metadata": {},
   "outputs": [
    {
     "name": "stdout",
     "output_type": "stream",
     "text": [
      "lambda_ECS =  2.3 W m^-2 K^-1\n"
     ]
    }
   ],
   "source": [
    "lambda_ECS = +(2*np.pi*hplanck**2*nu_w**4*dnu_w/(kboltz*c_light**2*Ts**2))*np.exp(-hplanck*nu_w/(kboltz*Ts))\n",
    "\n",
    "F_2x = +5.12 # value from create_synthetic_spectrum [W m^-2]\n",
    "\n",
    "print('lambda_ECS = ',round(lambda_ECS,2),'W m^-2 K^-1')"
   ]
  },
  {
   "cell_type": "markdown",
   "metadata": {},
   "source": [
    "Calculate temperature change from CO2 doubling:"
   ]
  },
  {
   "cell_type": "code",
   "execution_count": 27,
   "metadata": {},
   "outputs": [
    {
     "name": "stdout",
     "output_type": "stream",
     "text": [
      "Delta T_s  =  2.23 K\n"
     ]
    }
   ],
   "source": [
    "delta_Ts = +F_2x/lambda_ECS\n",
    "\n",
    "print('Delta T_s  = ',round(delta_Ts,2),'K')"
   ]
  }
 ],
 "metadata": {
  "kernelspec": {
   "display_name": "Python 3 (ipykernel)",
   "language": "python",
   "name": "python3"
  },
  "language_info": {
   "codemirror_mode": {
    "name": "ipython",
    "version": 3
   },
   "file_extension": ".py",
   "mimetype": "text/x-python",
   "name": "python",
   "nbconvert_exporter": "python",
   "pygments_lexer": "ipython3",
   "version": "3.10.9"
  }
 },
 "nbformat": 4,
 "nbformat_minor": 4
}
