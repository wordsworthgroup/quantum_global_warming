{
 "cells": [
  {
   "cell_type": "markdown",
   "id": "a9413f95-ed49-44e6-ad23-1a4c53b6c90b",
   "metadata": {},
   "source": [
    "Demonstrate the equivalence of SI and cgs expressions for the Einstein-A coefficient:"
   ]
  },
  {
   "cell_type": "code",
   "execution_count": 2,
   "id": "237bdbc7",
   "metadata": {},
   "outputs": [
    {
     "name": "stdout",
     "output_type": "stream",
     "text": [
      "A_SI = 0.9311726131033345 s^-1\n",
      "A_cgs = 0.9311723224511801 s^-1\n",
      "A_HITRAN, nu in invcm = 0.9311723224511803 s^-1\n"
     ]
    }
   ],
   "source": [
    "import numpy as np\n",
    "\n",
    "# fundamental constants in SI units\n",
    "hplanck   = 6.62607015e-34 # Planck's constant [J s]\n",
    "kboltz    = 1.380649e-23   # Boltzmann's constant [J K^-1]\n",
    "c_light   = 299792458.     # speed of light in vacuum [m s^-1] \n",
    "epsilon_0 = 8.85418e-12    # vacuum permittivity [F m^-1]\n",
    "\n",
    "# fundamental constants in cgs units\n",
    "hplanck_cgs = hplanck*1e7 # Planck's constant [erg s]\n",
    "c_light_cgs = c_light*100 # speed of light in vacuum [cm s^-1]\n",
    "\n",
    "nu = 20e12 # CO2 nu2 band fundamental frequency (same in SI or cgs) [Hz]\n",
    "nu_invcm = nu/c_light_cgs # CO2 nu2 band wavenumber [cm^-1]\n",
    "debye_SI = 3.33564e-30 # 1-Debye electric dipole moment [C m]\n",
    "debye_cgs = 1e-18 # 1-Debye electric dipole moment [statC cm]\n",
    "TDME = 0.1 # transition dipole matrix element magnitude [Debye]\n",
    "\n",
    "# SI Einstein-A coefficient\n",
    "A_SI = 16*np.pi**3*nu**3*(TDME*debye_SI)**2/(3*hplanck*c_light**3*epsilon_0)\n",
    "\n",
    "# cgs Einstein-A coefficient\n",
    "A_cgs = 64*np.pi**4*nu**3*(TDME*debye_cgs)**2/(3*hplanck_cgs*(c_light_cgs)**3)\n",
    "\n",
    "# HITRAN Einstein-A coefficient with nu in cm^-1:\n",
    "A_HITRAN_nu_invcm = 64*np.pi**4*nu_invcm**3*TDME**2/(3*hplanck_cgs)*1e-36\n",
    "\n",
    "print('A_SI =',A_SI,'s^-1')\n",
    "print('A_cgs =',A_cgs,'s^-1')\n",
    "print('A_HITRAN, nu in invcm =',A_HITRAN_nu_invcm,'s^-1')"
   ]
  }
 ],
 "metadata": {
  "kernelspec": {
   "display_name": "Python 3 (ipykernel)",
   "language": "python",
   "name": "python3"
  },
  "language_info": {
   "codemirror_mode": {
    "name": "ipython",
    "version": 3
   },
   "file_extension": ".py",
   "mimetype": "text/x-python",
   "name": "python",
   "nbconvert_exporter": "python",
   "pygments_lexer": "ipython3",
   "version": "3.10.9"
  }
 },
 "nbformat": 4,
 "nbformat_minor": 5
}
